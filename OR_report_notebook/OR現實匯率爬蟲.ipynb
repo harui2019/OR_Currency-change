{
 "cells": [
  {
   "cell_type": "code",
   "execution_count": 37,
   "metadata": {},
   "outputs": [],
   "source": [
    "import requests\n",
    "from bs4 import BeautifulSoup\n",
    "import pandas as pd\n",
    "import time\n",
    "import numpy as np"
   ]
  },
  {
   "cell_type": "code",
   "execution_count": 38,
   "metadata": {},
   "outputs": [],
   "source": [
    "r = requests.get(\"https://rate.bot.com.tw/xrt?Lang=zh-TW\") #將此頁面的HTML GET下來\n",
    "#print(r.text) #印出HTML"
   ]
  },
  {
   "cell_type": "code",
   "execution_count": 39,
   "metadata": {},
   "outputs": [],
   "source": [
    "soup = BeautifulSoup(r.text,\"html.parser\") #將網頁資料以html.parser\n",
    "rate_num = soup.select(\"div.page-wrapper main.main div div.container table.table tbody tr td.rate-content-cash\") #取HTML標中的 <div class=\"title\"></div> 中的<a>標籤存入sel"
   ]
  },
  {
   "cell_type": "code",
   "execution_count": 40,
   "metadata": {},
   "outputs": [],
   "source": [
    "list_a = []\n",
    "for rate in rate_num:\n",
    "    #print(rate.text)\n",
    "    list_a.append(rate.text)"
   ]
  },
  {
   "cell_type": "code",
   "execution_count": 41,
   "metadata": {},
   "outputs": [
    {
     "name": "stdout",
     "output_type": "stream",
     "text": [
      "['29.425', '30.095', '3.691', '3.895', '35.87', '37.99', '19.16', '19.94', '20.94', '21.85', '20.55', '21.46', '29.92', '31.12', '0.2699', '0.2827', '-', '-', '2.67', '3.19', '17.85', '18.7', '0.8004', '0.9904', '0.519', '0.652', '0.00168', '0.00238', '31.53', '32.87', '0.02277', '0.02667', '0.0009', '0.0014', '5.77', '7.395', '4.109', '4.271']\n",
      "38\n",
      "\n",
      "['29.425', '3.691', '35.87', '19.16', '20.94', '20.55', '29.92', '0.2699', '-', '2.67', '17.85', '0.8004', '0.519', '0.00168', '31.53', '0.02277', '0.0009', '5.77', '4.109']\n",
      "['30.095', '3.895', '37.99', '19.94', '21.85', '21.46', '31.12', '0.2827', '-', '3.19', '18.7', '0.9904', '0.652', '0.00238', '32.87', '0.02667', '0.0014', '7.395', '4.271']\n"
     ]
    }
   ],
   "source": [
    "list_e1 = []#'本行現金買入'\n",
    "list_e2 = []#'本行現金賣出' \n",
    "print(list_a)\n",
    "print(len(list_a))\n",
    "print()\n",
    "for i in range(len(list_a)):\n",
    "    if i%2 == 0:\n",
    "        list_e1.append(list_a[i])\n",
    "    else:\n",
    "        list_e2.append(list_a[i])\n",
    "        \n",
    "print(list_e1)\n",
    "print(list_e2)"
   ]
  },
  {
   "cell_type": "code",
   "execution_count": 42,
   "metadata": {},
   "outputs": [],
   "source": [
    "rate_num_3 = soup.select(\"div.page-wrapper main.main div div.container table.table tbody tr td div.visible-phone\")"
   ]
  },
  {
   "cell_type": "code",
   "execution_count": 43,
   "metadata": {},
   "outputs": [
    {
     "name": "stdout",
     "output_type": "stream",
     "text": [
      "['美金 (USD)', '港幣 (HKD)', '英鎊 (GBP)', '澳幣 (AUD)', '加拿大幣 (CAD)', '新加坡幣 (SGD)', '瑞士法郎 (CHF)', '日圓 (JPY)', '南非幣 (ZAR)', '瑞典幣 (SEK)', '紐元 (NZD)', '泰幣 (THB)', '菲國比索 (PHP)', '印尼幣 (IDR)', '歐元 (EUR)', '韓元 (KRW)', '越南盾 (VND)', '馬來幣 (MYR)', '人民幣 (CNY)']\n"
     ]
    }
   ],
   "source": [
    "list_d = []#\"幣別\"\n",
    "for rate_cpx in rate_num_3:\n",
    "    list_d.append((str(rate_cpx.text).split(\"\\r\\n\")[1]).lstrip())\n",
    "print(list_d)"
   ]
  },
  {
   "cell_type": "code",
   "execution_count": 54,
   "metadata": {
    "scrolled": true
   },
   "outputs": [
    {
     "name": "stdout",
     "output_type": "stream",
     "text": [
      "['2020-05-11 12:06:36', 0.0, 0.0, 0.0, 0.0, 0.0, 0.0, 0.0, 0.0, 0.0, 0.0, 0.0, 0.0, 0.0, 0.0, 0.0, 0.0, 0.0, 0.0]\n"
     ]
    },
    {
     "data": {
      "text/html": [
       "<div>\n",
       "<style scoped>\n",
       "    .dataframe tbody tr th:only-of-type {\n",
       "        vertical-align: middle;\n",
       "    }\n",
       "\n",
       "    .dataframe tbody tr th {\n",
       "        vertical-align: top;\n",
       "    }\n",
       "\n",
       "    .dataframe thead th {\n",
       "        text-align: right;\n",
       "    }\n",
       "</style>\n",
       "<table border=\"1\" class=\"dataframe\">\n",
       "  <thead>\n",
       "    <tr style=\"text-align: right;\">\n",
       "      <th></th>\n",
       "      <th>本行現金買入</th>\n",
       "      <th>本行現金賣出</th>\n",
       "      <th>時間</th>\n",
       "    </tr>\n",
       "  </thead>\n",
       "  <tbody>\n",
       "    <tr>\n",
       "      <th>美金 (USD)</th>\n",
       "      <td>29.425</td>\n",
       "      <td>30.095</td>\n",
       "      <td>2020-05-11 12:06:36</td>\n",
       "    </tr>\n",
       "    <tr>\n",
       "      <th>港幣 (HKD)</th>\n",
       "      <td>3.691</td>\n",
       "      <td>3.895</td>\n",
       "      <td>0</td>\n",
       "    </tr>\n",
       "    <tr>\n",
       "      <th>英鎊 (GBP)</th>\n",
       "      <td>35.87</td>\n",
       "      <td>37.99</td>\n",
       "      <td>0</td>\n",
       "    </tr>\n",
       "    <tr>\n",
       "      <th>澳幣 (AUD)</th>\n",
       "      <td>19.16</td>\n",
       "      <td>19.94</td>\n",
       "      <td>0</td>\n",
       "    </tr>\n",
       "    <tr>\n",
       "      <th>加拿大幣 (CAD)</th>\n",
       "      <td>20.94</td>\n",
       "      <td>21.85</td>\n",
       "      <td>0</td>\n",
       "    </tr>\n",
       "    <tr>\n",
       "      <th>新加坡幣 (SGD)</th>\n",
       "      <td>20.55</td>\n",
       "      <td>21.46</td>\n",
       "      <td>0</td>\n",
       "    </tr>\n",
       "    <tr>\n",
       "      <th>瑞士法郎 (CHF)</th>\n",
       "      <td>29.92</td>\n",
       "      <td>31.12</td>\n",
       "      <td>0</td>\n",
       "    </tr>\n",
       "    <tr>\n",
       "      <th>日圓 (JPY)</th>\n",
       "      <td>0.2699</td>\n",
       "      <td>0.2827</td>\n",
       "      <td>0</td>\n",
       "    </tr>\n",
       "    <tr>\n",
       "      <th>南非幣 (ZAR)</th>\n",
       "      <td>-</td>\n",
       "      <td>-</td>\n",
       "      <td>0</td>\n",
       "    </tr>\n",
       "    <tr>\n",
       "      <th>瑞典幣 (SEK)</th>\n",
       "      <td>2.67</td>\n",
       "      <td>3.19</td>\n",
       "      <td>0</td>\n",
       "    </tr>\n",
       "    <tr>\n",
       "      <th>紐元 (NZD)</th>\n",
       "      <td>17.85</td>\n",
       "      <td>18.7</td>\n",
       "      <td>0</td>\n",
       "    </tr>\n",
       "    <tr>\n",
       "      <th>泰幣 (THB)</th>\n",
       "      <td>0.8004</td>\n",
       "      <td>0.9904</td>\n",
       "      <td>0</td>\n",
       "    </tr>\n",
       "    <tr>\n",
       "      <th>菲國比索 (PHP)</th>\n",
       "      <td>0.519</td>\n",
       "      <td>0.652</td>\n",
       "      <td>0</td>\n",
       "    </tr>\n",
       "    <tr>\n",
       "      <th>印尼幣 (IDR)</th>\n",
       "      <td>0.00168</td>\n",
       "      <td>0.00238</td>\n",
       "      <td>0</td>\n",
       "    </tr>\n",
       "    <tr>\n",
       "      <th>歐元 (EUR)</th>\n",
       "      <td>31.53</td>\n",
       "      <td>32.87</td>\n",
       "      <td>0</td>\n",
       "    </tr>\n",
       "    <tr>\n",
       "      <th>韓元 (KRW)</th>\n",
       "      <td>0.02277</td>\n",
       "      <td>0.02667</td>\n",
       "      <td>0</td>\n",
       "    </tr>\n",
       "    <tr>\n",
       "      <th>越南盾 (VND)</th>\n",
       "      <td>0.0009</td>\n",
       "      <td>0.0014</td>\n",
       "      <td>0</td>\n",
       "    </tr>\n",
       "    <tr>\n",
       "      <th>馬來幣 (MYR)</th>\n",
       "      <td>5.77</td>\n",
       "      <td>7.395</td>\n",
       "      <td>0</td>\n",
       "    </tr>\n",
       "    <tr>\n",
       "      <th>人民幣 (CNY)</th>\n",
       "      <td>4.109</td>\n",
       "      <td>4.271</td>\n",
       "      <td>0</td>\n",
       "    </tr>\n",
       "  </tbody>\n",
       "</table>\n",
       "</div>"
      ],
      "text/plain": [
       "             本行現金買入   本行現金賣出                   時間\n",
       "美金 (USD)     29.425   30.095  2020-05-11 12:06:36\n",
       "港幣 (HKD)      3.691    3.895                    0\n",
       "英鎊 (GBP)      35.87    37.99                    0\n",
       "澳幣 (AUD)      19.16    19.94                    0\n",
       "加拿大幣 (CAD)    20.94    21.85                    0\n",
       "新加坡幣 (SGD)    20.55    21.46                    0\n",
       "瑞士法郎 (CHF)    29.92    31.12                    0\n",
       "日圓 (JPY)     0.2699   0.2827                    0\n",
       "南非幣 (ZAR)         -        -                    0\n",
       "瑞典幣 (SEK)      2.67     3.19                    0\n",
       "紐元 (NZD)      17.85     18.7                    0\n",
       "泰幣 (THB)     0.8004   0.9904                    0\n",
       "菲國比索 (PHP)    0.519    0.652                    0\n",
       "印尼幣 (IDR)   0.00168  0.00238                    0\n",
       "歐元 (EUR)      31.53    32.87                    0\n",
       "韓元 (KRW)    0.02277  0.02667                    0\n",
       "越南盾 (VND)    0.0009   0.0014                    0\n",
       "馬來幣 (MYR)      5.77    7.395                    0\n",
       "人民幣 (CNY)     4.109    4.271                    0"
      ]
     },
     "execution_count": 54,
     "metadata": {},
     "output_type": "execute_result"
    }
   ],
   "source": [
    "current = time.strftime(\"%Y-%m-%d %H:%M:%S\", time.localtime())\n",
    "current_1 = list(np.zeros(len(list_d)))\n",
    "current_1[0] = current\n",
    "print(current_1)\n",
    "before_df = {\"本行現金買入\":list_e1 , \"本行現金賣出\": list_e2, \"時間\": current_1}\n",
    "df = pd.DataFrame(data = before_df, index = list_d)\n",
    "df"
   ]
  },
  {
   "cell_type": "code",
   "execution_count": null,
   "metadata": {},
   "outputs": [],
   "source": []
  }
 ],
 "metadata": {
  "kernelspec": {
   "display_name": "Python 3",
   "language": "python",
   "name": "python3"
  },
  "language_info": {
   "codemirror_mode": {
    "name": "ipython",
    "version": 3
   },
   "file_extension": ".py",
   "mimetype": "text/x-python",
   "name": "python",
   "nbconvert_exporter": "python",
   "pygments_lexer": "ipython3",
   "version": "3.7.6"
  }
 },
 "nbformat": 4,
 "nbformat_minor": 4
}
