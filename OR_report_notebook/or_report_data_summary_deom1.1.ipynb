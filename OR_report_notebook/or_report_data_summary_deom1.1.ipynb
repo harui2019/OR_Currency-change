{
 "cells": [
  {
   "cell_type": "code",
   "execution_count": 1,
   "metadata": {},
   "outputs": [],
   "source": [
    "import pandas as pd\n",
    "import numpy as np\n",
    "import matplotlib.pyplot as plt"
   ]
  },
  {
   "cell_type": "markdown",
   "metadata": {},
   "source": [
    "## Ch.1 第一種兌換方式\n",
    "### modelA "
   ]
  },
  {
   "cell_type": "code",
   "execution_count": 96,
   "metadata": {},
   "outputs": [],
   "source": [
    "path_s = dict()\n",
    "path_s['main'] = 'D:\\\\Onedrive\\\\Documents\\\\GAMSStudio'\n",
    "path_s['1.5a'] = '\\\\or_report_1.5_model_A_multinode_trivial'\n",
    "path_s['1.5b'] = '\\\\or_report_1.5_model_B_multinode_trivial'\n",
    "path_s['1.6a'] = '\\\\or_report_1.6_model_A_multinode'\n",
    "path_s['1.6b'] = '\\\\or_report_1.6_model_A_multinode'\n",
    "path_s['5e'] = '\\\\5nodes'\n",
    "path_s['6f'] = '\\\\6nodes'\n",
    "path_s['7g'] = '\\\\7nodes'\n",
    "path_s['8h'] = '\\\\8nodes'\n",
    "path_s['9i'] = '\\\\9nodes'"
   ]
  },
  {
   "cell_type": "code",
   "execution_count": 97,
   "metadata": {},
   "outputs": [],
   "source": [
    "mA_5e_cost = pd.read_csv(\n",
    "    path_s['main'] + path_s['1.5a'] + path_s['5e'] + '\\\\or_report.1.5_mA_5e_out_cost.csv')\n",
    "mA_5e_isfeasible = pd.read_csv(\n",
    "    path_s['main'] + path_s['1.5a'] + path_s['5e'] + '\\\\or_report.1.5_mA_5e_out_isfeasible.csv')\n",
    "mA_5e_remain = pd.read_csv(\n",
    "    path_s['main'] + path_s['1.5a'] + path_s['5e'] + '\\\\or_report.1.5_mA_5e_out_remain.csv')\n",
    "mA_5e_remainrate = pd.read_csv(\n",
    "    path_s['main'] + path_s['1.5a'] + path_s['5e'] + '\\\\or_report.1.5_mA_5e_out_remainrate.csv')\n"
   ]
  },
  {
   "cell_type": "code",
   "execution_count": 78,
   "metadata": {
    "scrolled": true
   },
   "outputs": [
    {
     "data": {
      "text/html": [
       "<div>\n",
       "<style scoped>\n",
       "    .dataframe tbody tr th:only-of-type {\n",
       "        vertical-align: middle;\n",
       "    }\n",
       "\n",
       "    .dataframe tbody tr th {\n",
       "        vertical-align: top;\n",
       "    }\n",
       "\n",
       "    .dataframe thead th {\n",
       "        text-align: right;\n",
       "    }\n",
       "</style>\n",
       "<table border=\"1\" class=\"dataframe\">\n",
       "  <thead>\n",
       "    <tr style=\"text-align: right;\">\n",
       "      <th></th>\n",
       "      <th>remain(iter)</th>\n",
       "    </tr>\n",
       "  </thead>\n",
       "  <tbody>\n",
       "    <tr>\n",
       "      <th>1</th>\n",
       "      <td>0.95</td>\n",
       "    </tr>\n",
       "    <tr>\n",
       "      <th>2</th>\n",
       "      <td>1.90</td>\n",
       "    </tr>\n",
       "    <tr>\n",
       "      <th>3</th>\n",
       "      <td>2.85</td>\n",
       "    </tr>\n",
       "    <tr>\n",
       "      <th>4</th>\n",
       "      <td>3.80</td>\n",
       "    </tr>\n",
       "    <tr>\n",
       "      <th>5</th>\n",
       "      <td>4.75</td>\n",
       "    </tr>\n",
       "    <tr>\n",
       "      <th>...</th>\n",
       "      <td>...</td>\n",
       "    </tr>\n",
       "    <tr>\n",
       "      <th>996</th>\n",
       "      <td>-196.00</td>\n",
       "    </tr>\n",
       "    <tr>\n",
       "      <th>997</th>\n",
       "      <td>-197.00</td>\n",
       "    </tr>\n",
       "    <tr>\n",
       "      <th>998</th>\n",
       "      <td>-198.00</td>\n",
       "    </tr>\n",
       "    <tr>\n",
       "      <th>999</th>\n",
       "      <td>-199.00</td>\n",
       "    </tr>\n",
       "    <tr>\n",
       "      <th>1000</th>\n",
       "      <td>-200.00</td>\n",
       "    </tr>\n",
       "  </tbody>\n",
       "</table>\n",
       "<p>999 rows × 1 columns</p>\n",
       "</div>"
      ],
      "text/plain": [
       "      remain(iter)\n",
       "1             0.95\n",
       "2             1.90\n",
       "3             2.85\n",
       "4             3.80\n",
       "5             4.75\n",
       "...            ...\n",
       "996        -196.00\n",
       "997        -197.00\n",
       "998        -198.00\n",
       "999        -199.00\n",
       "1000       -200.00\n",
       "\n",
       "[999 rows x 1 columns]"
      ]
     },
     "execution_count": 78,
     "metadata": {},
     "output_type": "execute_result"
    }
   ],
   "source": [
    "mA_5e_remain"
   ]
  },
  {
   "cell_type": "code",
   "execution_count": 79,
   "metadata": {},
   "outputs": [],
   "source": [
    "mA_5e = pd.DataFrame()\n",
    "mA_5e['cost'] = mA_5e_cost['cost(iter)']\n",
    "mA_5e['remain'] = mA_5e_remain['remain(iter)']\n",
    "mA_5e['remainrate'] = mA_5e_remainrate['remainrate(iter)']\n",
    "mA_5e['isfeasible'] = mA_5e_isfeasible['isfeasible(iter)']"
   ]
  },
  {
   "cell_type": "code",
   "execution_count": 80,
   "metadata": {},
   "outputs": [
    {
     "data": {
      "text/plain": [
       "cost          800.0\n",
       "remain          NaN\n",
       "remainrate      NaN\n",
       "isfeasible      4.0\n",
       "Name: 800, dtype: float64"
      ]
     },
     "execution_count": 80,
     "metadata": {},
     "output_type": "execute_result"
    }
   ],
   "source": [
    "mA_5e.loc[800, :]"
   ]
  },
  {
   "cell_type": "code",
   "execution_count": 81,
   "metadata": {},
   "outputs": [
    {
     "data": {
      "text/plain": [
       "cost          800.0\n",
       "remain          0.0\n",
       "remainrate      0.0\n",
       "isfeasible      4.0\n",
       "Name: 800, dtype: float64"
      ]
     },
     "execution_count": 81,
     "metadata": {},
     "output_type": "execute_result"
    }
   ],
   "source": [
    "mA_5e.loc[800, ('remain')] = 0\n",
    "mA_5e.loc[800, ('remainrate')] = 0 #instead of mA_5e['remainrate'][800]\n",
    "#this row should be 0, but gams doesn't do this instead of giving Nan\n",
    "mA_5e.loc[800]"
   ]
  },
  {
   "cell_type": "code",
   "execution_count": 82,
   "metadata": {},
   "outputs": [
    {
     "data": {
      "text/plain": [
       "Text(0.5, 0, 'remainrate')"
      ]
     },
     "execution_count": 82,
     "metadata": {},
     "output_type": "execute_result"
    },
    {
     "data": {
      "image/png": "[encoded data removed]",
      "text/plain": [
       "<Figure size 432x288 with 1 Axes>"
      ]
     },
     "metadata": {
      "needs_background": "light"
     },
     "output_type": "display_data"
    }
   ],
   "source": [
    "plt.plot(mA_5e['remainrate'])\n",
    "plt.xlabel(\"remainrate\")"
   ]
  },
  {
   "cell_type": "code",
   "execution_count": 83,
   "metadata": {},
   "outputs": [],
   "source": [
    "mA_5e['cost_fail'] = mA_5e['cost']\n",
    "mA_5e['remain_fail'] = mA_5e['remain']\n",
    "mA_5e['remainrate_fail'] = mA_5e['remainrate']\n",
    "endpoint = 0\n",
    "\n",
    "for i in list(mA_5e.index):\n",
    "    isfeasible = mA_5e.loc[i, ('isfeasible')]\n",
    "    if mA_5e.loc[i, ('isfeasible')] == 1:\n",
    "        mA_5e.loc[i, ('cost_fail')] = None\n",
    "        mA_5e.loc[i, ('remain_fail')] = None \n",
    "        mA_5e.loc[i, ('remainrate_fail')] = None\n",
    "    else :\n",
    "        mA_5e.loc[i, ('cost')] = None\n",
    "        mA_5e.loc[i, ('remain')] = None \n",
    "        mA_5e.loc[i, ('remainrate')] = None"
   ]
  },
  {
   "cell_type": "code",
   "execution_count": 84,
   "metadata": {},
   "outputs": [
    {
     "name": "stdout",
     "output_type": "stream",
     "text": [
      "400\n"
     ]
    }
   ],
   "source": [
    "for i in list(mA_5e.index):\n",
    "    if mA_5e.loc[i, ('isfeasible')] == 4:\n",
    "        endpoint = i - 1\n",
    "        break\n",
    "print(endpoint)"
   ]
  },
  {
   "cell_type": "code",
   "execution_count": 85,
   "metadata": {
    "scrolled": true
   },
   "outputs": [
    {
     "data": {
      "text/html": [
       "<div>\n",
       "<style scoped>\n",
       "    .dataframe tbody tr th:only-of-type {\n",
       "        vertical-align: middle;\n",
       "    }\n",
       "\n",
       "    .dataframe tbody tr th {\n",
       "        vertical-align: top;\n",
       "    }\n",
       "\n",
       "    .dataframe thead th {\n",
       "        text-align: right;\n",
       "    }\n",
       "</style>\n",
       "<table border=\"1\" class=\"dataframe\">\n",
       "  <thead>\n",
       "    <tr style=\"text-align: right;\">\n",
       "      <th></th>\n",
       "      <th>cost</th>\n",
       "      <th>remain</th>\n",
       "      <th>remainrate</th>\n",
       "      <th>isfeasible</th>\n",
       "      <th>cost_fail</th>\n",
       "      <th>remain_fail</th>\n",
       "      <th>remainrate_fail</th>\n",
       "    </tr>\n",
       "  </thead>\n",
       "  <tbody>\n",
       "    <tr>\n",
       "      <th>1</th>\n",
       "      <td>0.05</td>\n",
       "      <td>0.95</td>\n",
       "      <td>0.95</td>\n",
       "      <td>1</td>\n",
       "      <td>NaN</td>\n",
       "      <td>NaN</td>\n",
       "      <td>NaN</td>\n",
       "    </tr>\n",
       "    <tr>\n",
       "      <th>2</th>\n",
       "      <td>0.10</td>\n",
       "      <td>1.90</td>\n",
       "      <td>0.95</td>\n",
       "      <td>1</td>\n",
       "      <td>NaN</td>\n",
       "      <td>NaN</td>\n",
       "      <td>NaN</td>\n",
       "    </tr>\n",
       "    <tr>\n",
       "      <th>3</th>\n",
       "      <td>0.15</td>\n",
       "      <td>2.85</td>\n",
       "      <td>0.95</td>\n",
       "      <td>1</td>\n",
       "      <td>NaN</td>\n",
       "      <td>NaN</td>\n",
       "      <td>NaN</td>\n",
       "    </tr>\n",
       "    <tr>\n",
       "      <th>4</th>\n",
       "      <td>0.20</td>\n",
       "      <td>3.80</td>\n",
       "      <td>0.95</td>\n",
       "      <td>1</td>\n",
       "      <td>NaN</td>\n",
       "      <td>NaN</td>\n",
       "      <td>NaN</td>\n",
       "    </tr>\n",
       "    <tr>\n",
       "      <th>5</th>\n",
       "      <td>0.25</td>\n",
       "      <td>4.75</td>\n",
       "      <td>0.95</td>\n",
       "      <td>1</td>\n",
       "      <td>NaN</td>\n",
       "      <td>NaN</td>\n",
       "      <td>NaN</td>\n",
       "    </tr>\n",
       "    <tr>\n",
       "      <th>...</th>\n",
       "      <td>...</td>\n",
       "      <td>...</td>\n",
       "      <td>...</td>\n",
       "      <td>...</td>\n",
       "      <td>...</td>\n",
       "      <td>...</td>\n",
       "      <td>...</td>\n",
       "    </tr>\n",
       "    <tr>\n",
       "      <th>996</th>\n",
       "      <td>NaN</td>\n",
       "      <td>NaN</td>\n",
       "      <td>NaN</td>\n",
       "      <td>4</td>\n",
       "      <td>1192.0</td>\n",
       "      <td>-196.0</td>\n",
       "      <td>-0.196787</td>\n",
       "    </tr>\n",
       "    <tr>\n",
       "      <th>997</th>\n",
       "      <td>NaN</td>\n",
       "      <td>NaN</td>\n",
       "      <td>NaN</td>\n",
       "      <td>4</td>\n",
       "      <td>1194.0</td>\n",
       "      <td>-197.0</td>\n",
       "      <td>-0.197593</td>\n",
       "    </tr>\n",
       "    <tr>\n",
       "      <th>998</th>\n",
       "      <td>NaN</td>\n",
       "      <td>NaN</td>\n",
       "      <td>NaN</td>\n",
       "      <td>4</td>\n",
       "      <td>1196.0</td>\n",
       "      <td>-198.0</td>\n",
       "      <td>-0.198397</td>\n",
       "    </tr>\n",
       "    <tr>\n",
       "      <th>999</th>\n",
       "      <td>NaN</td>\n",
       "      <td>NaN</td>\n",
       "      <td>NaN</td>\n",
       "      <td>4</td>\n",
       "      <td>1198.0</td>\n",
       "      <td>-199.0</td>\n",
       "      <td>-0.199199</td>\n",
       "    </tr>\n",
       "    <tr>\n",
       "      <th>1000</th>\n",
       "      <td>NaN</td>\n",
       "      <td>NaN</td>\n",
       "      <td>NaN</td>\n",
       "      <td>4</td>\n",
       "      <td>1200.0</td>\n",
       "      <td>-200.0</td>\n",
       "      <td>-0.200000</td>\n",
       "    </tr>\n",
       "  </tbody>\n",
       "</table>\n",
       "<p>1000 rows × 7 columns</p>\n",
       "</div>"
      ],
      "text/plain": [
       "      cost  remain  remainrate  isfeasible  cost_fail  remain_fail  \\\n",
       "1     0.05    0.95        0.95           1        NaN          NaN   \n",
       "2     0.10    1.90        0.95           1        NaN          NaN   \n",
       "3     0.15    2.85        0.95           1        NaN          NaN   \n",
       "4     0.20    3.80        0.95           1        NaN          NaN   \n",
       "5     0.25    4.75        0.95           1        NaN          NaN   \n",
       "...    ...     ...         ...         ...        ...          ...   \n",
       "996    NaN     NaN         NaN           4     1192.0       -196.0   \n",
       "997    NaN     NaN         NaN           4     1194.0       -197.0   \n",
       "998    NaN     NaN         NaN           4     1196.0       -198.0   \n",
       "999    NaN     NaN         NaN           4     1198.0       -199.0   \n",
       "1000   NaN     NaN         NaN           4     1200.0       -200.0   \n",
       "\n",
       "      remainrate_fail  \n",
       "1                 NaN  \n",
       "2                 NaN  \n",
       "3                 NaN  \n",
       "4                 NaN  \n",
       "5                 NaN  \n",
       "...               ...  \n",
       "996         -0.196787  \n",
       "997         -0.197593  \n",
       "998         -0.198397  \n",
       "999         -0.199199  \n",
       "1000        -0.200000  \n",
       "\n",
       "[1000 rows x 7 columns]"
      ]
     },
     "execution_count": 85,
     "metadata": {},
     "output_type": "execute_result"
    }
   ],
   "source": [
    "mA_5e"
   ]
  },
  {
   "cell_type": "code",
   "execution_count": 90,
   "metadata": {},
   "outputs": [
    {
     "data": {
      "text/plain": [
       "Text(0.5, 1.0, 'model in 5 nodes')"
      ]
     },
     "execution_count": 90,
     "metadata": {},
     "output_type": "execute_result"
    },
    {
     "data": {
      "image/png": "[encoded data removed]",
      "text/plain": [
       "<Figure size 720x360 with 1 Axes>"
      ]
     },
     "metadata": {
      "needs_background": "light"
     },
     "output_type": "display_data"
    }
   ],
   "source": [
    "plt.figure(figsize = (10, 5))\n",
    "plt.plot(mA_5e['remainrate'], color = 'b')\n",
    "plt.plot(mA_5e['remainrate_fail'], color = 'r')\n",
    "plt.vlines(endpoint, ymin = 0, ymax = mA_5e.loc[endpoint+1, ('remainrate_fail')], color = 'gray')\n",
    "plt.xlabel('quantity of currency', fontdict = {'fontsize':15})\n",
    "plt.ylabel('remainrate', fontdict = {'fontsize': 15})\n",
    "plt.fill_between(list(mA_5e.index), mA_5e['remainrate'], 0, alpha = 0.3)\n",
    "plt.fill_between(list(mA_5e.index), mA_5e['remainrate_fail'], 0, alpha = 0.3)\n",
    "plt.legend(('feasible', 'infeasible', 'max feasible',), fontsize = 12)\n",
    "plt.title('model in 5 nodes', fontdict = {'fontsize': 20})"
   ]
  },
  {
   "cell_type": "code",
   "execution_count": 87,
   "metadata": {
    "scrolled": true
   },
   "outputs": [
    {
     "data": {
      "text/plain": [
       "Text(0.5, 1.0, 'model in 5 nodes')"
      ]
     },
     "execution_count": 87,
     "metadata": {},
     "output_type": "execute_result"
    },
    {
     "data": {
      "image/png": "[encoded data removed]",
      "text/plain": [
       "<Figure size 720x360 with 1 Axes>"
      ]
     },
     "metadata": {
      "needs_background": "light"
     },
     "output_type": "display_data"
    }
   ],
   "source": [
    "plt.figure(figsize = (10, 5))\n",
    "plt.plot(mA_5e['remain'], color = 'b')\n",
    "plt.plot(mA_5e['remain_fail'], color = 'r')\n",
    "plt.vlines(endpoint, ymin = 0, ymax = mA_5e.loc[endpoint+1, ('remain_fail')], color = 'gray')\n",
    "plt.xlabel('quantity of currency', fontdict = {'fontsize':15})\n",
    "plt.ylabel('remain', fontdict = {'fontsize': 15})\n",
    "plt.fill_between(list(mA_5e.index), mA_5e['remain'], 0, alpha = 0.3)\n",
    "plt.fill_between(list(mA_5e.index), mA_5e['remain_fail'], 0, alpha = 0.3)\n",
    "plt.legend(('feasible', 'infeasible', 'max feasible',), fontsize = 12)\n",
    "plt.title('model in 5 nodes', fontdict = {'fontsize': 20})\n"
   ]
  },
  {
   "cell_type": "code",
   "execution_count": 88,
   "metadata": {},
   "outputs": [
    {
     "data": {
      "text/plain": [
       "1"
      ]
     },
     "execution_count": 88,
     "metadata": {},
     "output_type": "execute_result"
    }
   ],
   "source": [
    "mA_5e.loc[endpoint, ('isfeasible')]"
   ]
  },
  {
   "cell_type": "code",
   "execution_count": 89,
   "metadata": {},
   "outputs": [
    {
     "data": {
      "text/plain": [
       "cost                      NaN\n",
       "remain                    NaN\n",
       "remainrate                NaN\n",
       "isfeasible           4.000000\n",
       "cost_fail            2.000000\n",
       "remain_fail        399.000000\n",
       "remainrate_fail      0.995012\n",
       "Name: 401, dtype: float64"
      ]
     },
     "execution_count": 89,
     "metadata": {},
     "output_type": "execute_result"
    }
   ],
   "source": [
    "mA_5e.loc[endpoint+1]"
   ]
  },
  {
   "cell_type": "code",
   "execution_count": 109,
   "metadata": {
    "scrolled": true
   },
   "outputs": [],
   "source": [
    "def bbb():\n",
    "    bb = plt.figure(figsize = (10, 5))\n",
    "    plt.plot(mA_5e['remain'], color = 'b')\n",
    "    plt.plot(mA_5e['remain_fail'], color = 'r')\n",
    "    return bb"
   ]
  },
  {
   "cell_type": "code",
   "execution_count": 110,
   "metadata": {},
   "outputs": [
    {
     "data": {
      "image/png": "[encoded data removed]",
      "text/plain": [
       "<Figure size 720x360 with 1 Axes>"
      ]
     },
     "execution_count": 110,
     "metadata": {},
     "output_type": "execute_result"
    },
    {
     "data": {
      "image/png": "[encoded data removed]",
      "text/plain": [
       "<Figure size 720x360 with 1 Axes>"
      ]
     },
     "metadata": {
      "needs_background": "light"
     },
     "output_type": "display_data"
    }
   ],
   "source": [
    "bbb()"
   ]
  },
  {
   "cell_type": "code",
   "execution_count": null,
   "metadata": {},
   "outputs": [],
   "source": []
  }
 ],
 "metadata": {
  "kernelspec": {
   "display_name": "Python 3",
   "language": "python",
   "name": "python3"
  },
  "language_info": {
   "codemirror_mode": {
    "name": "ipython",
    "version": 3
   },
   "file_extension": ".py",
   "mimetype": "text/x-python",
   "name": "python",
   "nbconvert_exporter": "python",
   "pygments_lexer": "ipython3",
   "version": "3.7.6"
  }
 },
 "nbformat": 4,
 "nbformat_minor": 4
}
